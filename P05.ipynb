{
 "cells": [
  {
   "cell_type": "code",
   "execution_count": null,
   "metadata": {
    "collapsed": true,
    "pycharm": {
     "name": "#%%\n"
    }
   },
   "outputs": [],
   "source": [
    "!pip install geopandas"
   ]
  },
  {
   "cell_type": "code",
   "execution_count": null,
   "outputs": [],
   "source": [
    "!pip install matplotlib"
   ],
   "metadata": {
    "collapsed": false,
    "pycharm": {
     "name": "#%%\n"
    }
   }
  },
  {
   "cell_type": "code",
   "execution_count": null,
   "outputs": [],
   "source": [
    "!pip install gdown"
   ],
   "metadata": {
    "collapsed": false,
    "pycharm": {
     "name": "#%%\n"
    }
   }
  },
  {
   "cell_type": "code",
   "execution_count": null,
   "outputs": [],
   "source": [
    "import gdown\n",
    "id = \"1N7WzhrV93L3iOPilwgZ8klR9hRsr88E2\"\n",
    "output = \"geojson.zip\"\n",
    "gdown.download(id=id, output=output, quiet=False)"
   ],
   "metadata": {
    "collapsed": false,
    "pycharm": {
     "name": "#%%\n"
    }
   }
  },
  {
   "cell_type": "code",
   "execution_count": null,
   "outputs": [],
   "source": [
    "from zipfile import ZipFile\n",
    "file = \"geojson.zip\"\n",
    "with ZipFile(file,'r') as zip:\n",
    "    zip.extractall()\n",
    "    print(\"GeoJson files extraidos\")\n"
   ],
   "metadata": {
    "collapsed": false,
    "pycharm": {
     "name": "#%%\n"
    }
   }
  },
  {
   "cell_type": "code",
   "execution_count": null,
   "outputs": [],
   "source": [
    "import geopandas\n",
    "import matplotlib.pyplot as plt\n",
    "\n",
    "\n",
    "try :\n",
    "    cultivo = geopandas.read_file('Crop__Mapping_2014.geojson',enconding =('utf-8'),low_memory=False)\n",
    "    agua = geopandas.read_file('cuencas_hidrograficas.geojson',enconding =('utf-8'),low_memory=False)\n",
    "except UnicodeDecodeError:\n",
    "    print(\"'utf-8' codec can't decode byte 0xf3\")\n",
    "except Exception as error:\n",
    "    print(error.args)"
   ],
   "metadata": {
    "collapsed": false,
    "pycharm": {
     "name": "#%%\n"
    }
   }
  },
  {
   "cell_type": "code",
   "execution_count": null,
   "outputs": [],
   "source": [
    "print (\"\\n\\nNombres de las Columnas de los Dataset Mapeo de Cultivos \\n\",cultivo.columns.values)\n",
    "cultivo.plot(color = 'blue', linewidth=3, label ='línea')\n",
    "plt.title(\" Geodataframe del Dataset del Mapeo de Cultivos\")\n",
    "print (\"\\n Dataset del Mapeo de Cultivos\")\n",
    "cultivo.head()"
   ],
   "metadata": {
    "collapsed": false,
    "pycharm": {
     "name": "#%%\n"
    }
   }
  },
  {
   "cell_type": "code",
   "execution_count": null,
   "outputs": [],
   "source": [
    "print (\"\\n\\nNombres de las Columnas de los Dataset Mapeo de Distritos de Agua \\n\",agua.columns.values)\n",
    "agua.plot(color = 'red', linewidth=3, label ='línea')\n",
    "plt.title(\" Geodataframe del Dataset del Distritos de Agua\")\n",
    "print (\"\\n\\nDataset del Distritos de Agua\")\n",
    "agua.head()"
   ],
   "metadata": {
    "collapsed": false,
    "pycharm": {
     "name": "#%%\n"
    }
   }
  },
  {
   "cell_type": "code",
   "execution_count": null,
   "outputs": [],
   "source": [
    "print(\"\\n\\nBusqueda Indexada del Dataset cultivo\\n\\n\")\n",
    "print(cultivo[(cultivo.OBJECTID>10)&(cultivo.OBJECTID<100)].iloc[:10,2:4])"
   ],
   "metadata": {
    "collapsed": false,
    "pycharm": {
     "name": "#%%\n"
    }
   }
  },
  {
   "cell_type": "code",
   "execution_count": null,
   "outputs": [],
   "source": [
    "print(\"\\n\\nBusqueda Indexada del Dataset Distrito de Agua\\n\\n\")\n",
    "print(agua[(agua.AGENCYUNIQUEID>10)&(agua.AGENCYUNIQUEID<100)].iloc[:10,1:3])"
   ],
   "metadata": {
    "collapsed": false,
    "pycharm": {
     "name": "#%%\n"
    }
   }
  },
  {
   "cell_type": "code",
   "execution_count": null,
   "outputs": [],
   "source": [
    "world = geopandas.read_file(geopandas.datasets.get_path('naturalearth_lowres'))"
   ],
   "metadata": {
    "collapsed": false,
    "pycharm": {
     "name": "#%%\n"
    }
   }
  },
  {
   "cell_type": "code",
   "execution_count": null,
   "outputs": [],
   "source": [
    "base = world[(world.continent==\"North America\")&(world.name==\"United States of America\")].plot(color =\"green\",figsize=(18, 18))\n",
    "agua.plot(ax=base, label=\"Distrito de Agua\",color = \"blue\",markersize=30)\n",
    "plt.title(\"Mapa de Estados Unidos\", size=30)\n",
    "plt.legend()"
   ],
   "metadata": {
    "collapsed": false,
    "pycharm": {
     "name": "#%%\n"
    }
   }
  },
  {
   "cell_type": "code",
   "execution_count": null,
   "outputs": [],
   "source": [],
   "metadata": {
    "collapsed": false,
    "pycharm": {
     "name": "#%%\n"
    }
   }
  }
 ],
 "metadata": {
  "kernelspec": {
   "display_name": "Python 3",
   "language": "python",
   "name": "python3"
  },
  "language_info": {
   "codemirror_mode": {
    "name": "ipython",
    "version": 2
   },
   "file_extension": ".py",
   "mimetype": "text/x-python",
   "name": "python",
   "nbconvert_exporter": "python",
   "pygments_lexer": "ipython2",
   "version": "2.7.6"
  }
 },
 "nbformat": 4,
 "nbformat_minor": 0
}