{
 "cells": [
  {
   "cell_type": "code",
   "execution_count": null,
   "metadata": {
    "collapsed": true,
    "pycharm": {
     "name": "#%%\n"
    }
   },
   "outputs": [],
   "source": [
    "!pip install geopandas"
   ]
  },
  {
   "cell_type": "code",
   "execution_count": null,
   "outputs": [],
   "source": [
    "!pip install descartes"
   ],
   "metadata": {
    "collapsed": false,
    "pycharm": {
     "name": "#%%\n"
    }
   }
  },
  {
   "cell_type": "code",
   "execution_count": null,
   "outputs": [],
   "source": [
    "!pip install geoplot"
   ],
   "metadata": {
    "collapsed": false,
    "pycharm": {
     "name": "#%%\n"
    }
   }
  },
  {
   "cell_type": "code",
   "execution_count": null,
   "outputs": [],
   "source": [
    "!pip install matplotlib"
   ],
   "metadata": {
    "collapsed": false,
    "pycharm": {
     "name": "#%%\n"
    }
   }
  },
  {
   "cell_type": "code",
   "execution_count": null,
   "outputs": [],
   "source": [
    "!pip install gdown"
   ],
   "metadata": {
    "collapsed": false,
    "pycharm": {
     "name": "#%%\n"
    }
   }
  },
  {
   "cell_type": "code",
   "execution_count": null,
   "outputs": [],
   "source": [
    "!mkdir data\n",
    "!cd data\n",
    "import gdown\n",
    "\"\"\"zip file con los shape de EU\"\"\"\n",
    "id = \"1LyyqR_gnXeeaciD_n45iB0JXVo7CKqHo\"\n",
    "output = \"shapes.zip\"\n",
    "gdown.download(id=id, output=output, quiet=False)"
   ],
   "metadata": {
    "collapsed": false,
    "pycharm": {
     "name": "#%%\n"
    }
   }
  },
  {
   "cell_type": "code",
   "execution_count": null,
   "outputs": [],
   "source": [
    "from zipfile import ZipFile\n",
    "file = \"shapes.zip\"\n",
    "with ZipFile(file,'r') as zip:\n",
    "    zip.extractall('/content/data/')\n",
    "    print(\"US shapes files extraidos\")"
   ],
   "metadata": {
    "collapsed": false,
    "pycharm": {
     "name": "#%%\n"
    }
   }
  },
  {
   "cell_type": "code",
   "execution_count": null,
   "outputs": [],
   "source": [
    "import gdown\n",
    "id = \"1N7WzhrV93L3iOPilwgZ8klR9hRsr88E2\"\n",
    "output = \"geojson.zip\"\n",
    "gdown.download(id=id, output=output, quiet=False)"
   ],
   "metadata": {
    "collapsed": false,
    "pycharm": {
     "name": "#%%\n"
    }
   }
  },
  {
   "cell_type": "code",
   "execution_count": null,
   "outputs": [],
   "source": [
    "from zipfile import ZipFile\n",
    "file = \"geojson.zip\"\n",
    "with ZipFile(file,'r') as zip:\n",
    "    zip.extractall()\n",
    "    print(\"GeoJson files extraidos\")\n"
   ],
   "metadata": {
    "collapsed": false,
    "pycharm": {
     "name": "#%%\n"
    }
   }
  },
  {
   "cell_type": "code",
   "execution_count": null,
   "outputs": [],
   "source": [
    "import geopandas\n",
    "import matplotlib.pyplot as plt\n",
    "\n",
    "\n",
    "try :\n",
    "    cultivo = geopandas.read_file('Crop__Mapping_2014.geojson',enconding =('utf-8'),low_memory=False)\n",
    "    agua = geopandas.read_file('cuencas_hidrograficas.geojson',enconding =('utf-8'),low_memory=False)\n",
    "except UnicodeDecodeError:\n",
    "    print(\"'utf-8' codec can't decode byte 0xf3\")\n",
    "except Exception as error:\n",
    "    print(error.args)"
   ],
   "metadata": {
    "collapsed": false,
    "pycharm": {
     "name": "#%%\n"
    }
   }
  },
  {
   "cell_type": "code",
   "execution_count": null,
   "outputs": [],
   "source": [
    "print (\"\\n\\nNombres de las Columnas de los Dataset Mapeo de Cultivos \\n\",cultivo.columns.values)\n",
    "cultivo.plot(color = 'blue', linewidth=3, label ='línea')\n",
    "plt.title(\" Geodataframe del Dataset del Mapeo de Cultivos\")\n",
    "print (\"\\n Dataset del Mapeo de Cultivos\")\n",
    "cultivo.head()"
   ],
   "metadata": {
    "collapsed": false,
    "pycharm": {
     "name": "#%%\n"
    }
   }
  },
  {
   "cell_type": "code",
   "execution_count": null,
   "outputs": [],
   "source": [
    "print (\"\\n\\nNombres de las Columnas de los Dataset Mapeo de cuencas de Agua Panama\\n\",agua.columns.values)\n",
    "agua.plot(color = 'red', linewidth=3, label ='línea')\n",
    "plt.title(\" Geodataframe del Dataset del cuenca  de Agua\")\n",
    "print (\"\\n\\nDataset del Distritos de Agua\")\n",
    "agua.head()"
   ],
   "metadata": {
    "collapsed": false,
    "pycharm": {
     "name": "#%%\n"
    }
   }
  },
  {
   "cell_type": "code",
   "execution_count": null,
   "outputs": [],
   "source": [
    "print(\"\\n\\nBusqueda Indexada del Dataset cultivo\\n\\n\")\n",
    "print(cultivo[(cultivo.OBJECTID>10)&(cultivo.OBJECTID<100)].iloc[:10,2:4])"
   ],
   "metadata": {
    "collapsed": false,
    "pycharm": {
     "name": "#%%\n"
    }
   }
  },
  {
   "cell_type": "code",
   "execution_count": null,
   "outputs": [],
   "source": [
    "print(\"\\n\\nBusqueda Indexada del Dataset cuencas de Agua en Panama\\n\\n\")\n",
    "print(agua[(agua.Peri_km>10)&(agua.Peri_km<100)].iloc[:,1:4])"
   ],
   "metadata": {
    "collapsed": false,
    "pycharm": {
     "name": "#%%\n"
    }
   }
  },
  {
   "cell_type": "code",
   "execution_count": null,
   "outputs": [],
   "source": [
    "print(\"Mapa contextualizado de California\")\n",
    "states = geopandas.read_file('data/usa-states-census-2014.shp')\n",
    "states.head()"
   ],
   "metadata": {
    "collapsed": false,
    "pycharm": {
     "name": "#%%\n"
    }
   }
  },
  {
   "cell_type": "code",
   "execution_count": null,
   "outputs": [],
   "source": [
    "states = states.to_crs(\"EPSG:3395\")"
   ],
   "metadata": {
    "collapsed": false,
    "pycharm": {
     "name": "#%%\n"
    }
   }
  },
  {
   "cell_type": "code",
   "execution_count": null,
   "outputs": [],
   "source": [
    "import contextily as ctx\n",
    "ax = states[states['NAME'] == 'California'].plot(figsize=(12, 12), alpha=0.5, edgecolor='k')\n",
    "ctx.add_basemap(ax)"
   ],
   "metadata": {
    "collapsed": false,
    "pycharm": {
     "name": "#%%\n"
    }
   }
  }
 ],
 "metadata": {
  "kernelspec": {
   "display_name": "Python 3",
   "language": "python",
   "name": "python3"
  },
  "language_info": {
   "codemirror_mode": {
    "name": "ipython",
    "version": 2
   },
   "file_extension": ".py",
   "mimetype": "text/x-python",
   "name": "python",
   "nbconvert_exporter": "python",
   "pygments_lexer": "ipython2",
   "version": "2.7.6"
  }
 },
 "nbformat": 4,
 "nbformat_minor": 0
}